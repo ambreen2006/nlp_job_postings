{
 "cells": [
  {
   "cell_type": "code",
   "execution_count": 5,
   "metadata": {},
   "outputs": [],
   "source": [
    "import pandas as pd\n",
    "import numpy as np\n",
    "\n",
    "from sklearn.feature_extraction.text import CountVectorizer"
   ]
  },
  {
   "cell_type": "code",
   "execution_count": 6,
   "metadata": {},
   "outputs": [],
   "source": [
    "df = pd.read_csv('data/postings.csv')"
   ]
  },
  {
   "cell_type": "code",
   "execution_count": 7,
   "metadata": {},
   "outputs": [
    {
     "data": {
      "text/html": [
       "<div>\n",
       "<style scoped>\n",
       "    .dataframe tbody tr th:only-of-type {\n",
       "        vertical-align: middle;\n",
       "    }\n",
       "\n",
       "    .dataframe tbody tr th {\n",
       "        vertical-align: top;\n",
       "    }\n",
       "\n",
       "    .dataframe thead th {\n",
       "        text-align: right;\n",
       "    }\n",
       "</style>\n",
       "<table border=\"1\" class=\"dataframe\">\n",
       "  <thead>\n",
       "    <tr style=\"text-align: right;\">\n",
       "      <th></th>\n",
       "      <th>title</th>\n",
       "      <th>body</th>\n",
       "      <th>bullets</th>\n",
       "    </tr>\n",
       "  </thead>\n",
       "  <tbody>\n",
       "    <tr>\n",
       "      <th>0</th>\n",
       "      <td>Data Scientist - Mountain View, CA</td>\n",
       "      <td>Data Scientist - Mountain View, CA\\nGroundTrut...</td>\n",
       "      <td>('Help senior members of the team to explore, ...</td>\n",
       "    </tr>\n",
       "    <tr>\n",
       "      <th>1</th>\n",
       "      <td>Data Scientist - Seattle, WA</td>\n",
       "      <td>Data Scientist - Seattle, WA\\nA Bachelor or Ma...</td>\n",
       "      <td>('A Bachelor or Masters Degree in a highly qua...</td>\n",
       "    </tr>\n",
       "    <tr>\n",
       "      <th>2</th>\n",
       "      <td>Junior Data Scientist - College Park, MD 20740</td>\n",
       "      <td>Junior Data Scientist - College Park, MD 20740...</td>\n",
       "      <td>('Degree: Bachelor’s degree in business analyt...</td>\n",
       "    </tr>\n",
       "    <tr>\n",
       "      <th>3</th>\n",
       "      <td>Data Scientist - New York, NY</td>\n",
       "      <td>Data Scientist - New York, NY\\nDescription\\nDS...</td>\n",
       "      <td>('Languages: Python, PySpark, SQL', 'Data Tool...</td>\n",
       "    </tr>\n",
       "    <tr>\n",
       "      <th>4</th>\n",
       "      <td>(Entry-Level) Data Scientist - Chicago, IL</td>\n",
       "      <td>(Entry-Level) Data Scientist - Chicago, IL\\nDa...</td>\n",
       "      <td>('Be the go-to person for Data ingest and stor...</td>\n",
       "    </tr>\n",
       "  </tbody>\n",
       "</table>\n",
       "</div>"
      ],
      "text/plain": [
       "                                            title  \\\n",
       "0              Data Scientist - Mountain View, CA   \n",
       "1                    Data Scientist - Seattle, WA   \n",
       "2  Junior Data Scientist - College Park, MD 20740   \n",
       "3                   Data Scientist - New York, NY   \n",
       "4      (Entry-Level) Data Scientist - Chicago, IL   \n",
       "\n",
       "                                                body  \\\n",
       "0  Data Scientist - Mountain View, CA\\nGroundTrut...   \n",
       "1  Data Scientist - Seattle, WA\\nA Bachelor or Ma...   \n",
       "2  Junior Data Scientist - College Park, MD 20740...   \n",
       "3  Data Scientist - New York, NY\\nDescription\\nDS...   \n",
       "4  (Entry-Level) Data Scientist - Chicago, IL\\nDa...   \n",
       "\n",
       "                                             bullets  \n",
       "0  ('Help senior members of the team to explore, ...  \n",
       "1  ('A Bachelor or Masters Degree in a highly qua...  \n",
       "2  ('Degree: Bachelor’s degree in business analyt...  \n",
       "3  ('Languages: Python, PySpark, SQL', 'Data Tool...  \n",
       "4  ('Be the go-to person for Data ingest and stor...  "
      ]
     },
     "execution_count": 7,
     "metadata": {},
     "output_type": "execute_result"
    }
   ],
   "source": [
    "df.head()"
   ]
  },
  {
   "cell_type": "code",
   "execution_count": 31,
   "metadata": {},
   "outputs": [],
   "source": [
    "vectorizer = CountVectorizer(stop_words='english')"
   ]
  },
  {
   "cell_type": "code",
   "execution_count": 32,
   "metadata": {},
   "outputs": [],
   "source": [
    "tf_matrix = vectorizer.fit_transform(df.bullets)"
   ]
  },
  {
   "cell_type": "code",
   "execution_count": 33,
   "metadata": {},
   "outputs": [],
   "source": [
    "tf_np_matrix = tf_matrix.toarray()"
   ]
  },
  {
   "cell_type": "code",
   "execution_count": 34,
   "metadata": {},
   "outputs": [],
   "source": [
    "tf_vector = tf_np_matrix[0]"
   ]
  },
  {
   "cell_type": "code",
   "execution_count": 35,
   "metadata": {},
   "outputs": [],
   "source": [
    "non_zero_indices = np.flatnonzero(tf_vector)"
   ]
  },
  {
   "cell_type": "code",
   "execution_count": 36,
   "metadata": {},
   "outputs": [],
   "source": [
    "num_unique_words = non_zero_indices.size"
   ]
  },
  {
   "cell_type": "code",
   "execution_count": 37,
   "metadata": {},
   "outputs": [
    {
     "data": {
      "text/plain": [
       "67"
      ]
     },
     "execution_count": 37,
     "metadata": {},
     "output_type": "execute_result"
    }
   ],
   "source": [
    "num_unique_words"
   ]
  },
  {
   "cell_type": "code",
   "execution_count": 38,
   "metadata": {},
   "outputs": [
    {
     "data": {
      "text/plain": [
       "array([ 253,  283,  468,  575,  718,  925,  958, 1010, 1062, 1333, 1343,\n",
       "       1345, 1392, 1409, 1464, 1493, 1619, 1843, 1844, 1955, 1994, 2020,\n",
       "       2078, 2168, 2436, 2481, 2748, 3036, 3040, 3074, 3146, 3197, 3229,\n",
       "       3265, 3281, 3338, 3433, 3710, 3838, 3866, 4026, 4072, 4089, 4121,\n",
       "       4153, 4324, 4332, 4412, 4469, 4651, 4790, 4897, 4902, 4903, 4964,\n",
       "       4991, 4995, 5041, 5076, 5143, 5153, 5203, 5253, 5275, 5478, 5811,\n",
       "       5966])"
      ]
     },
     "execution_count": 38,
     "metadata": {},
     "output_type": "execute_result"
    }
   ],
   "source": [
    "non_zero_indices"
   ]
  },
  {
   "cell_type": "code",
   "execution_count": 39,
   "metadata": {},
   "outputs": [],
   "source": [
    "words = vectorizer.get_feature_names()"
   ]
  },
  {
   "cell_type": "code",
   "execution_count": 40,
   "metadata": {},
   "outputs": [],
   "source": [
    "unique_words = [words[i] for i in non_zero_indices]"
   ]
  },
  {
   "cell_type": "code",
   "execution_count": 41,
   "metadata": {},
   "outputs": [
    {
     "data": {
      "text/plain": [
       "['algorithms',\n",
       " 'amazon',\n",
       " 'athena',\n",
       " 'basis',\n",
       " 'build',\n",
       " 'closely',\n",
       " 'collaborate',\n",
       " 'communication',\n",
       " 'computer',\n",
       " 'daily',\n",
       " 'data',\n",
       " 'databases',\n",
       " 'deep',\n",
       " 'degree',\n",
       " 'derive',\n",
       " 'develop',\n",
       " 'dive',\n",
       " 'engineering',\n",
       " 'engineers',\n",
       " 'excellent',\n",
       " 'experience',\n",
       " 'explore',\n",
       " 'familiarity',\n",
       " 'fluency',\n",
       " 'hadoop',\n",
       " 'help',\n",
       " 'insights',\n",
       " 'learn',\n",
       " 'learning',\n",
       " 'libraries',\n",
       " 'location',\n",
       " 'machine',\n",
       " 'managers',\n",
       " 'master',\n",
       " 'mathematics',\n",
       " 'members',\n",
       " 'mllib',\n",
       " 'nosql',\n",
       " 'open',\n",
       " 'optimize',\n",
       " 'peer',\n",
       " 'petabytes',\n",
       " 'phd',\n",
       " 'pipelines',\n",
       " 'plus',\n",
       " 'product',\n",
       " 'productionize',\n",
       " 'prototypes',\n",
       " 'python',\n",
       " 'relational',\n",
       " 'rich',\n",
       " 'science',\n",
       " 'scientists',\n",
       " 'scikit',\n",
       " 'senior',\n",
       " 'services',\n",
       " 'set',\n",
       " 'significant',\n",
       " 'skills',\n",
       " 'source',\n",
       " 'spark',\n",
       " 'sql',\n",
       " 'statistics',\n",
       " 'stores',\n",
       " 'team',\n",
       " 'use',\n",
       " 'web']"
      ]
     },
     "execution_count": 41,
     "metadata": {},
     "output_type": "execute_result"
    }
   ],
   "source": [
    "unique_words"
   ]
  },
  {
   "cell_type": "code",
   "execution_count": 42,
   "metadata": {},
   "outputs": [],
   "source": [
    "posting_1 = {'Word': unique_words, \n",
    "             'Count': tf_vector[non_zero_indices]}\n",
    "\n",
    "posting_df = pd.DataFrame(posting_1).sort_values('Count', ascending=False)"
   ]
  },
  {
   "cell_type": "code",
   "execution_count": 43,
   "metadata": {},
   "outputs": [
    {
     "data": {
      "text/html": [
       "<div>\n",
       "<style scoped>\n",
       "    .dataframe tbody tr th:only-of-type {\n",
       "        vertical-align: middle;\n",
       "    }\n",
       "\n",
       "    .dataframe tbody tr th {\n",
       "        vertical-align: top;\n",
       "    }\n",
       "\n",
       "    .dataframe thead th {\n",
       "        text-align: right;\n",
       "    }\n",
       "</style>\n",
       "<table border=\"1\" class=\"dataframe\">\n",
       "  <thead>\n",
       "    <tr style=\"text-align: right;\">\n",
       "      <th></th>\n",
       "      <th>Word</th>\n",
       "      <th>Count</th>\n",
       "    </tr>\n",
       "  </thead>\n",
       "  <tbody>\n",
       "    <tr>\n",
       "      <th>10</th>\n",
       "      <td>data</td>\n",
       "      <td>4</td>\n",
       "    </tr>\n",
       "    <tr>\n",
       "      <th>31</th>\n",
       "      <td>machine</td>\n",
       "      <td>3</td>\n",
       "    </tr>\n",
       "    <tr>\n",
       "      <th>20</th>\n",
       "      <td>experience</td>\n",
       "      <td>3</td>\n",
       "    </tr>\n",
       "    <tr>\n",
       "      <th>28</th>\n",
       "      <td>learning</td>\n",
       "      <td>3</td>\n",
       "    </tr>\n",
       "    <tr>\n",
       "      <th>21</th>\n",
       "      <td>explore</td>\n",
       "      <td>2</td>\n",
       "    </tr>\n",
       "    <tr>\n",
       "      <th>44</th>\n",
       "      <td>plus</td>\n",
       "      <td>2</td>\n",
       "    </tr>\n",
       "    <tr>\n",
       "      <th>1</th>\n",
       "      <td>amazon</td>\n",
       "      <td>2</td>\n",
       "    </tr>\n",
       "    <tr>\n",
       "      <th>62</th>\n",
       "      <td>statistics</td>\n",
       "      <td>2</td>\n",
       "    </tr>\n",
       "    <tr>\n",
       "      <th>60</th>\n",
       "      <td>spark</td>\n",
       "      <td>2</td>\n",
       "    </tr>\n",
       "    <tr>\n",
       "      <th>45</th>\n",
       "      <td>product</td>\n",
       "      <td>2</td>\n",
       "    </tr>\n",
       "  </tbody>\n",
       "</table>\n",
       "</div>"
      ],
      "text/plain": [
       "          Word  Count\n",
       "10        data      4\n",
       "31     machine      3\n",
       "20  experience      3\n",
       "28    learning      3\n",
       "21     explore      2\n",
       "44        plus      2\n",
       "1       amazon      2\n",
       "62  statistics      2\n",
       "60       spark      2\n",
       "45     product      2"
      ]
     },
     "execution_count": 43,
     "metadata": {},
     "output_type": "execute_result"
    }
   ],
   "source": [
    "posting_df.head(n=10)"
   ]
  },
  {
   "cell_type": "code",
   "execution_count": null,
   "metadata": {},
   "outputs": [],
   "source": []
  }
 ],
 "metadata": {
  "kernelspec": {
   "display_name": "Python 3",
   "language": "python",
   "name": "python3"
  },
  "language_info": {
   "codemirror_mode": {
    "name": "ipython",
    "version": 3
   },
   "file_extension": ".py",
   "mimetype": "text/x-python",
   "name": "python",
   "nbconvert_exporter": "python",
   "pygments_lexer": "ipython3",
   "version": "3.7.8"
  }
 },
 "nbformat": 4,
 "nbformat_minor": 4
}
