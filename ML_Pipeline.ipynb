{
 "cells": [
  {
   "cell_type": "markdown",
   "metadata": {},
   "source": [
    "# Imports"
   ]
  },
  {
   "cell_type": "code",
   "execution_count": 100,
   "metadata": {},
   "outputs": [],
   "source": [
    "import pandas as pd\n",
    "import numpy as np\n",
    "\n",
    "import unicodedata\n",
    "import string\n",
    "\n",
    "from nltk.tokenize import word_tokenize\n",
    "from nltk.corpus import stopwords\n",
    "\n",
    "from sklearn.feature_extraction.text import TfidfVectorizer\n",
    "\n",
    "from IPython.core.display import display, HTML\n",
    "\n",
    "import matplotlib.pyplot as plt\n",
    "\n",
    "%matplotlib inline"
   ]
  },
  {
   "cell_type": "markdown",
   "metadata": {},
   "source": [
    "# Data"
   ]
  },
  {
   "cell_type": "code",
   "execution_count": 101,
   "metadata": {},
   "outputs": [],
   "source": [
    "df = pd.read_csv('data/postings.csv')"
   ]
  },
  {
   "cell_type": "code",
   "execution_count": 102,
   "metadata": {},
   "outputs": [],
   "source": [
    "resume = None\n",
    "\n",
    "with open('data/Liveproject Resume.txt') as file_handle:\n",
    "    resume = file_handle.read()"
   ]
  },
  {
   "cell_type": "code",
   "execution_count": 103,
   "metadata": {},
   "outputs": [
    {
     "data": {
      "text/html": [
       "<div>\n",
       "<style scoped>\n",
       "    .dataframe tbody tr th:only-of-type {\n",
       "        vertical-align: middle;\n",
       "    }\n",
       "\n",
       "    .dataframe tbody tr th {\n",
       "        vertical-align: top;\n",
       "    }\n",
       "\n",
       "    .dataframe thead th {\n",
       "        text-align: right;\n",
       "    }\n",
       "</style>\n",
       "<table border=\"1\" class=\"dataframe\">\n",
       "  <thead>\n",
       "    <tr style=\"text-align: right;\">\n",
       "      <th></th>\n",
       "      <th>job_posting</th>\n",
       "      <th>title</th>\n",
       "      <th>body</th>\n",
       "      <th>bullets</th>\n",
       "    </tr>\n",
       "  </thead>\n",
       "  <tbody>\n",
       "    <tr>\n",
       "      <th>0</th>\n",
       "      <td>3157fcef3ee474da_fccid.html</td>\n",
       "      <td>Data Scientist - Mountain View, CA</td>\n",
       "      <td>Data Scientist - Mountain View, CA\\nGroundTrut...</td>\n",
       "      <td>('Help senior members of the team to explore, ...</td>\n",
       "    </tr>\n",
       "    <tr>\n",
       "      <th>1</th>\n",
       "      <td>b423ca22a6e2c10f_fccid.html</td>\n",
       "      <td>Data Scientist - Seattle, WA</td>\n",
       "      <td>Data Scientist - Seattle, WA\\nA Bachelor or Ma...</td>\n",
       "      <td>('A Bachelor or Masters Degree in a highly qua...</td>\n",
       "    </tr>\n",
       "    <tr>\n",
       "      <th>2</th>\n",
       "      <td>a559b6630c13783d_fccid.html</td>\n",
       "      <td>Junior Data Scientist - College Park, MD 20740</td>\n",
       "      <td>Junior Data Scientist - College Park, MD 20740...</td>\n",
       "      <td>('Degree: Bachelor’s degree in business analyt...</td>\n",
       "    </tr>\n",
       "    <tr>\n",
       "      <th>3</th>\n",
       "      <td>f579e807b5804620_fccid.html</td>\n",
       "      <td>Data Scientist - New York, NY</td>\n",
       "      <td>Data Scientist - New York, NY\\nDescription\\nDS...</td>\n",
       "      <td>('Languages: Python, PySpark, SQL', 'Data Tool...</td>\n",
       "    </tr>\n",
       "    <tr>\n",
       "      <th>4</th>\n",
       "      <td>13c9ffc0bcb07c8d_fccid.html</td>\n",
       "      <td>(Entry-Level) Data Scientist - Chicago, IL</td>\n",
       "      <td>(Entry-Level) Data Scientist - Chicago, IL\\nDa...</td>\n",
       "      <td>('Be the go-to person for Data ingest and stor...</td>\n",
       "    </tr>\n",
       "  </tbody>\n",
       "</table>\n",
       "</div>"
      ],
      "text/plain": [
       "                   job_posting  \\\n",
       "0  3157fcef3ee474da_fccid.html   \n",
       "1  b423ca22a6e2c10f_fccid.html   \n",
       "2  a559b6630c13783d_fccid.html   \n",
       "3  f579e807b5804620_fccid.html   \n",
       "4  13c9ffc0bcb07c8d_fccid.html   \n",
       "\n",
       "                                            title  \\\n",
       "0              Data Scientist - Mountain View, CA   \n",
       "1                    Data Scientist - Seattle, WA   \n",
       "2  Junior Data Scientist - College Park, MD 20740   \n",
       "3                   Data Scientist - New York, NY   \n",
       "4      (Entry-Level) Data Scientist - Chicago, IL   \n",
       "\n",
       "                                                body  \\\n",
       "0  Data Scientist - Mountain View, CA\\nGroundTrut...   \n",
       "1  Data Scientist - Seattle, WA\\nA Bachelor or Ma...   \n",
       "2  Junior Data Scientist - College Park, MD 20740...   \n",
       "3  Data Scientist - New York, NY\\nDescription\\nDS...   \n",
       "4  (Entry-Level) Data Scientist - Chicago, IL\\nDa...   \n",
       "\n",
       "                                             bullets  \n",
       "0  ('Help senior members of the team to explore, ...  \n",
       "1  ('A Bachelor or Masters Degree in a highly qua...  \n",
       "2  ('Degree: Bachelor’s degree in business analyt...  \n",
       "3  ('Languages: Python, PySpark, SQL', 'Data Tool...  \n",
       "4  ('Be the go-to person for Data ingest and stor...  "
      ]
     },
     "execution_count": 103,
     "metadata": {},
     "output_type": "execute_result"
    }
   ],
   "source": [
    "df.head()"
   ]
  },
  {
   "cell_type": "code",
   "execution_count": 104,
   "metadata": {},
   "outputs": [
    {
     "data": {
      "text/plain": [
       "(547, 4)"
      ]
     },
     "execution_count": 104,
     "metadata": {},
     "output_type": "execute_result"
    }
   ],
   "source": [
    "df.shape"
   ]
  },
  {
   "cell_type": "markdown",
   "metadata": {},
   "source": [
    "# Data Cleaning"
   ]
  },
  {
   "cell_type": "code",
   "execution_count": 105,
   "metadata": {},
   "outputs": [],
   "source": [
    "stop_words = stopwords.words('english')"
   ]
  },
  {
   "cell_type": "code",
   "execution_count": 106,
   "metadata": {},
   "outputs": [],
   "source": [
    "def clean_text(text):\n",
    "\n",
    "    p_text = text.translate(str.maketrans('', '', string.punctuation))\n",
    "    p_text = p_text.translate(str.maketrans('', '', string.digits))\n",
    "    p_text = unicodedata.normalize('NFKD', p_text)\\\n",
    "                        .encode('ascii', 'ignore')\\\n",
    "                        .decode('utf-8', 'ignore')\\\n",
    "                        .replace('\\n\\t', ' ')\\\n",
    "                        .replace('\\n', ' ')\\\n",
    "                        .replace('  ', ' ')\\\n",
    "                        .replace('   ', ' ')\\\n",
    "                        .rstrip()\\\n",
    "                        .lower()\n",
    "\n",
    "    p_text = ' '.join([word for word in word_tokenize(p_text) if word not in stop_words])\n",
    "    return p_text"
   ]
  },
  {
   "cell_type": "code",
   "execution_count": 107,
   "metadata": {},
   "outputs": [],
   "source": [
    "df['requirements'] = df.bullets.values"
   ]
  },
  {
   "cell_type": "code",
   "execution_count": 108,
   "metadata": {},
   "outputs": [],
   "source": [
    "df.requirements = df.requirements.apply(lambda x: x[1:-1])"
   ]
  },
  {
   "cell_type": "code",
   "execution_count": 109,
   "metadata": {},
   "outputs": [
    {
     "data": {
      "text/plain": [
       "0      'Help senior members of the team to explore, d...\n",
       "1      'A Bachelor or Masters Degree in a highly quan...\n",
       "2      'Degree: Bachelor’s degree in business analyti...\n",
       "3      'Languages: Python, PySpark, SQL', 'Data Tools...\n",
       "4      'Be the go-to person for Data ingest and stora...\n",
       "                             ...                        \n",
       "542    'Applicable degree(s): Computer Information Sy...\n",
       "543    'Experience with Python', 'Knowledge of some o...\n",
       "544                                                     \n",
       "545    'Independently develop advanced analytics and ...\n",
       "546    'Experienced in handling large data sets using...\n",
       "Name: requirements, Length: 547, dtype: object"
      ]
     },
     "execution_count": 109,
     "metadata": {},
     "output_type": "execute_result"
    }
   ],
   "source": [
    "df.requirements"
   ]
  },
  {
   "cell_type": "code",
   "execution_count": 110,
   "metadata": {
    "scrolled": false
   },
   "outputs": [],
   "source": [
    "df.requirements = df.requirements.apply(clean_text)"
   ]
  },
  {
   "cell_type": "code",
   "execution_count": 111,
   "metadata": {
    "scrolled": false
   },
   "outputs": [
    {
     "data": {
      "text/plain": [
       "array(['help senior members team explore develop productionize optimize machine learning algorithms pipelines use hadoop spark amazon athena daily basis explore petabytes data dive deep rich set location data derive insights build product prototypes collaborate peer data scientists engineers product managers closely master degree computer science statistics mathematics engineering phd plus experience statistics machine learning fluency python significant experience sql relational databases nosql data stores familiarity open source machine learning libraries scikitlearn spark mllib experience amazon web services plus excellent communication skills'],\n",
       "      dtype=object)"
      ]
     },
     "execution_count": 111,
     "metadata": {},
     "output_type": "execute_result"
    }
   ],
   "source": [
    "df.requirements.head(n=1).values"
   ]
  },
  {
   "cell_type": "code",
   "execution_count": 112,
   "metadata": {},
   "outputs": [
    {
     "name": "stdout",
     "output_type": "stream",
     "text": [
      "﻿Good Student\n",
      "Data Scientist\n",
      "\t  \n",
      "\n",
      "Good Student\n",
      "123 Fake Street\n",
      "Some City, QT 12345\n",
      "123.456.7890\n",
      "no_reply@fakesite.com\n",
      "\tㅡ\n",
      "Skills\n",
      "\t  \n",
      "\n",
      "Python, Pandas, machine learning, natural language processing\n",
      "\tㅡ\n",
      "Experience\n",
      "\t  \n",
      "\n",
      "Manning / Data Analyst\n",
      "Oct 2019 - PRESENT,  REMOTE\n",
      "Analyzed and visualized vast amounts of data using Pandas, Python, and Matplotlib.\n",
      "\tㅡ\n",
      "Education\n",
      "\t  \n",
      "\n",
      "Berkeley / B.S. Mathematics\n",
      "August 2015 - May 2019,  BERKELEY, CA\n",
      "Graduated summa cum laude.\n",
      "\n",
      "\tㅡ\n",
      "Awards\n",
      "\t  \n",
      "\n",
      "Tau Beta Pi Honors Society\n",
      "\n"
     ]
    }
   ],
   "source": [
    "print(resume)"
   ]
  },
  {
   "cell_type": "code",
   "execution_count": 113,
   "metadata": {},
   "outputs": [],
   "source": [
    "resume_clean = clean_text(resume)"
   ]
  },
  {
   "cell_type": "code",
   "execution_count": 114,
   "metadata": {},
   "outputs": [
    {
     "name": "stdout",
     "output_type": "stream",
     "text": [
      "good student data scientist good student fake street city qt noreplyfakesitecom skills python pandas machine learning natural language processing experience manning data analyst oct present remote analyzed visualized vast amounts data using pandas python matplotlib education berkeley bs mathematics august may berkeley ca graduated summa cum laude awards tau beta pi honors society\n"
     ]
    }
   ],
   "source": [
    "print(resume_clean)"
   ]
  },
  {
   "cell_type": "markdown",
   "metadata": {},
   "source": [
    "# Most Similar Job Postings"
   ]
  },
  {
   "cell_type": "code",
   "execution_count": 115,
   "metadata": {},
   "outputs": [],
   "source": [
    "tfidf_vectorizer = TfidfVectorizer(stop_words='english')"
   ]
  },
  {
   "cell_type": "code",
   "execution_count": 116,
   "metadata": {},
   "outputs": [],
   "source": [
    "all_text = [resume_clean] + list(df.requirements.values)"
   ]
  },
  {
   "cell_type": "code",
   "execution_count": 117,
   "metadata": {},
   "outputs": [],
   "source": [
    "tfidf_matrix = tfidf_vectorizer.fit_transform(all_text)"
   ]
  },
  {
   "cell_type": "code",
   "execution_count": 118,
   "metadata": {},
   "outputs": [
    {
     "data": {
      "text/plain": [
       "(548, 6916)"
      ]
     },
     "execution_count": 118,
     "metadata": {},
     "output_type": "execute_result"
    }
   ],
   "source": [
    "tfidf_matrix.shape"
   ]
  },
  {
   "cell_type": "code",
   "execution_count": 119,
   "metadata": {},
   "outputs": [
    {
     "data": {
      "text/plain": [
       "<548x6916 sparse matrix of type '<class 'numpy.float64'>'\n",
       "\twith 68149 stored elements in Compressed Sparse Row format>"
      ]
     },
     "execution_count": 119,
     "metadata": {},
     "output_type": "execute_result"
    }
   ],
   "source": [
    "tfidf_matrix"
   ]
  },
  {
   "cell_type": "code",
   "execution_count": 120,
   "metadata": {},
   "outputs": [
    {
     "data": {
      "text/plain": [
       "<547x6916 sparse matrix of type '<class 'numpy.float64'>'\n",
       "\twith 68104 stored elements in Compressed Sparse Row format>"
      ]
     },
     "execution_count": 120,
     "metadata": {},
     "output_type": "execute_result"
    }
   ],
   "source": [
    "tfidf_matrix[1:]"
   ]
  },
  {
   "cell_type": "code",
   "execution_count": 121,
   "metadata": {},
   "outputs": [],
   "source": [
    "tfidf_np_array = tfidf_matrix.toarray()"
   ]
  },
  {
   "cell_type": "code",
   "execution_count": 122,
   "metadata": {},
   "outputs": [
    {
     "data": {
      "text/plain": [
       "(548, 6916)"
      ]
     },
     "execution_count": 122,
     "metadata": {},
     "output_type": "execute_result"
    }
   ],
   "source": [
    "tfidf_np_array.shape"
   ]
  },
  {
   "cell_type": "code",
   "execution_count": 123,
   "metadata": {},
   "outputs": [],
   "source": [
    "resume_vector = tfidf_np_array[0]"
   ]
  },
  {
   "cell_type": "code",
   "execution_count": 124,
   "metadata": {},
   "outputs": [
    {
     "data": {
      "text/plain": [
       "array([0., 0., 0., ..., 0., 0., 0.])"
      ]
     },
     "execution_count": 124,
     "metadata": {},
     "output_type": "execute_result"
    }
   ],
   "source": [
    "resume_vector"
   ]
  },
  {
   "cell_type": "code",
   "execution_count": 125,
   "metadata": {},
   "outputs": [],
   "source": [
    "resume_non_zero_indicese = np.flatnonzero(resume_vector)"
   ]
  },
  {
   "cell_type": "code",
   "execution_count": 126,
   "metadata": {},
   "outputs": [
    {
     "data": {
      "text/plain": [
       "array([ 262,  276,  291,  498,  536,  622,  627,  727,  762,  925, 1411,\n",
       "       1458, 1920, 2207, 2303, 2633, 2661, 2841, 3376, 3395, 3425, 3613,\n",
       "       3669, 3722, 3732, 4055, 4183, 4255, 4432, 4597, 4767, 4829, 5015,\n",
       "       5033, 5255, 5527, 5737, 5779, 6000, 6021, 6077, 6194, 6627, 6674,\n",
       "       6741])"
      ]
     },
     "execution_count": 126,
     "metadata": {},
     "output_type": "execute_result"
    }
   ],
   "source": [
    "resume_non_zero_indicese"
   ]
  },
  {
   "cell_type": "code",
   "execution_count": 127,
   "metadata": {},
   "outputs": [
    {
     "data": {
      "text/plain": [
       "'visualized'"
      ]
     },
     "execution_count": 127,
     "metadata": {},
     "output_type": "execute_result"
    }
   ],
   "source": [
    "tfidf_vectorizer.get_feature_names()[6741]"
   ]
  },
  {
   "cell_type": "code",
   "execution_count": 128,
   "metadata": {},
   "outputs": [
    {
     "data": {
      "text/plain": [
       "0.0"
      ]
     },
     "execution_count": 128,
     "metadata": {},
     "output_type": "execute_result"
    }
   ],
   "source": [
    "resume_vector[439]"
   ]
  },
  {
   "cell_type": "code",
   "execution_count": 129,
   "metadata": {},
   "outputs": [],
   "source": [
    "cosine_similarities = tfidf_np_array @ resume_vector"
   ]
  },
  {
   "cell_type": "code",
   "execution_count": 130,
   "metadata": {},
   "outputs": [
    {
     "data": {
      "text/plain": [
       "(548,)"
      ]
     },
     "execution_count": 130,
     "metadata": {},
     "output_type": "execute_result"
    }
   ],
   "source": [
    "cosine_similarities.shape"
   ]
  },
  {
   "cell_type": "code",
   "execution_count": 131,
   "metadata": {},
   "outputs": [
    {
     "data": {
      "text/plain": [
       "array([1.        , 0.03277557, 0.03779801, 0.01933858, 0.05096556,\n",
       "       0.04777116, 0.01769653, 0.03750628, 0.02460573, 0.03870864,\n",
       "       0.00565752, 0.03502604, 0.02597396, 0.01620932, 0.03479699,\n",
       "       0.04369249, 0.01818711, 0.0612223 , 0.        , 0.06642942,\n",
       "       0.02879421, 0.06090079, 0.02242816, 0.02038032, 0.03633094,\n",
       "       0.0247229 , 0.03777949, 0.0260409 , 0.02889714, 0.04853925,\n",
       "       0.03678193, 0.01407522, 0.01104677, 0.03224518, 0.04594052,\n",
       "       0.02599858, 0.03783842, 0.02211951, 0.02298163, 0.04032308,\n",
       "       0.02936721, 0.02660951, 0.02036948, 0.        , 0.02979771,\n",
       "       0.04400202, 0.02349051, 0.05034005, 0.03861623, 0.02085431,\n",
       "       0.02514163, 0.04117275, 0.04343705, 0.02490783, 0.02663963,\n",
       "       0.04556606, 0.07107209, 0.02297024, 0.02441214, 0.03295618,\n",
       "       0.04782163, 0.00859497, 0.04374137, 0.06229579, 0.02959332,\n",
       "       0.02997118, 0.03525566, 0.01919754, 0.02800059, 0.0304107 ,\n",
       "       0.04004597, 0.05939996, 0.03920584, 0.02383633, 0.04374137,\n",
       "       0.03136951, 0.02634643, 0.05593847, 0.04061879, 0.05510515,\n",
       "       0.05168565, 0.02454902, 0.0412808 , 0.04732774, 0.        ,\n",
       "       0.02130121, 0.04329864, 0.02363095, 0.02737717, 0.01611375,\n",
       "       0.03799818, 0.03104946, 0.03345536, 0.03670929, 0.01611375,\n",
       "       0.0150737 , 0.03276834, 0.05625418, 0.04117275, 0.01933893,\n",
       "       0.0450743 , 0.03259752, 0.02604006, 0.03737643, 0.0207774 ,\n",
       "       0.01658864, 0.04771141, 0.07483031, 0.01967994, 0.00888851,\n",
       "       0.02671758, 0.06849028, 0.02663747, 0.06334353, 0.06748669,\n",
       "       0.0356724 , 0.03120657, 0.04217583, 0.03991923, 0.07708436,\n",
       "       0.04412667, 0.04077532, 0.        , 0.02466833, 0.05446024,\n",
       "       0.0527905 , 0.        , 0.00923373, 0.05960796, 0.02518924,\n",
       "       0.03046002, 0.02939023, 0.01104677, 0.0492574 , 0.01763348,\n",
       "       0.05058147, 0.060585  , 0.03991003, 0.02864701, 0.06491968,\n",
       "       0.08090669, 0.02671381, 0.04415035, 0.06534573, 0.02649983,\n",
       "       0.02775915, 0.04836771, 0.03295729, 0.03874337, 0.        ,\n",
       "       0.02649983, 0.04130123, 0.01590448, 0.00888851, 0.0090006 ,\n",
       "       0.02788475, 0.03840815, 0.03455577, 0.05754055, 0.04169134,\n",
       "       0.02330598, 0.02943156, 0.06814729, 0.04402317, 0.02349094,\n",
       "       0.03525566, 0.04169591, 0.07315956, 0.0345474 , 0.03412123,\n",
       "       0.0090006 , 0.09937659, 0.0363103 , 0.01862911, 0.05218969,\n",
       "       0.02836058, 0.00945956, 0.05320036, 0.03106148, 0.        ,\n",
       "       0.04784294, 0.03044105, 0.01767477, 0.        , 0.03237271,\n",
       "       0.02566608, 0.05778232, 0.050327  , 0.03703431, 0.        ,\n",
       "       0.01467616, 0.02931823, 0.01040714, 0.07708436, 0.05213935,\n",
       "       0.02746282, 0.02750935, 0.02198207, 0.03880044, 0.01125534,\n",
       "       0.048829  , 0.03238446, 0.        , 0.01425947, 0.06627634,\n",
       "       0.04151979, 0.04652397, 0.        , 0.00371966, 0.01980102,\n",
       "       0.02800427, 0.        , 0.02583947, 0.02174233, 0.        ,\n",
       "       0.03178109, 0.0108029 , 0.04790271, 0.10809514, 0.04771141,\n",
       "       0.03320772, 0.03609021, 0.03416388, 0.05072091, 0.04331096,\n",
       "       0.03231738, 0.02033328, 0.02475541, 0.06125097, 0.03098846,\n",
       "       0.03184693, 0.045684  , 0.04321434, 0.05693028, 0.04078596,\n",
       "       0.03988911, 0.05251635, 0.04024015, 0.01720142, 0.03376516,\n",
       "       0.09821084, 0.02523169, 0.04495553, 0.00767518, 0.02017779,\n",
       "       0.08268163, 0.03400889, 0.01341107, 0.02685591, 0.05303932,\n",
       "       0.01715042, 0.0368675 , 0.04043814, 0.01971278, 0.04110761,\n",
       "       0.03550814, 0.04032308, 0.04625841, 0.        , 0.02893372,\n",
       "       0.02400772, 0.02676701, 0.0440918 , 0.03408796, 0.0213906 ,\n",
       "       0.06987395, 0.0659186 , 0.02273422, 0.02260118, 0.0076287 ,\n",
       "       0.02272295, 0.01942223, 0.04645056, 0.03624368, 0.04623214,\n",
       "       0.0358068 , 0.05381108, 0.0832547 , 0.0133222 , 0.0561684 ,\n",
       "       0.02226135, 0.03503609, 0.02861375, 0.        , 0.05008228,\n",
       "       0.04291555, 0.00923373, 0.03626038, 0.00965772, 0.02889714,\n",
       "       0.02514847, 0.        , 0.0276162 , 0.03564989, 0.03777421,\n",
       "       0.01634355, 0.01439176, 0.02809714, 0.05693028, 0.01788144,\n",
       "       0.04908632, 0.0320221 , 0.03930372, 0.05641427, 0.03274609,\n",
       "       0.04901168, 0.03209975, 0.02371642, 0.        , 0.03351169,\n",
       "       0.02887115, 0.0496816 , 0.        , 0.03290976, 0.0090006 ,\n",
       "       0.04194592, 0.01918226, 0.02156187, 0.02660733, 0.04598841,\n",
       "       0.03876518, 0.02116884, 0.03834593, 0.03997286, 0.04941265,\n",
       "       0.038009  , 0.04020948, 0.02215839, 0.07483031, 0.02494932,\n",
       "       0.        , 0.        , 0.01925402, 0.0333755 , 0.04082327,\n",
       "       0.02734136, 0.01804672, 0.04926439, 0.02168697, 0.02268454,\n",
       "       0.03971124, 0.05034005, 0.02125408, 0.03807414, 0.05096556,\n",
       "       0.        , 0.03633094, 0.02718149, 0.02469948, 0.07189573,\n",
       "       0.02503327, 0.02933444, 0.0170843 , 0.03873114, 0.02722852,\n",
       "       0.03755035, 0.01919704, 0.        , 0.02724752, 0.04117528,\n",
       "       0.04117275, 0.06540503, 0.        , 0.03408796, 0.03243591,\n",
       "       0.01495367, 0.04272634, 0.06117126, 0.02646538, 0.02173363,\n",
       "       0.02283386, 0.02013832, 0.04117275, 0.0335645 , 0.02663963,\n",
       "       0.02481868, 0.06281831, 0.02331709, 0.04974087, 0.02253944,\n",
       "       0.02817346, 0.02366873, 0.0229411 , 0.04952357, 0.02956743,\n",
       "       0.02354827, 0.05456689, 0.05964125, 0.05195406, 0.0429016 ,\n",
       "       0.        , 0.04974087, 0.04534786, 0.0222473 , 0.03249228,\n",
       "       0.04836899, 0.00935987, 0.03801502, 0.        , 0.05477429,\n",
       "       0.03846976, 0.02088687, 0.03931994, 0.03330276, 0.03106148,\n",
       "       0.04180715, 0.05605956, 0.01771987, 0.05698765, 0.04631377,\n",
       "       0.05034005, 0.03007224, 0.02068988, 0.0496816 , 0.03514516,\n",
       "       0.02995328, 0.05648196, 0.0180025 , 0.04090743, 0.03290976,\n",
       "       0.04274971, 0.0098983 , 0.01401426, 0.02016765, 0.03976686,\n",
       "       0.        , 0.04004379, 0.03886525, 0.0133222 , 0.03939252,\n",
       "       0.02425097, 0.00926847, 0.02932373, 0.04563401, 0.        ,\n",
       "       0.01036655, 0.04402037, 0.02612377, 0.0188913 , 0.01480721,\n",
       "       0.06488693, 0.02804249, 0.04093604, 0.03270786, 0.04322829,\n",
       "       0.02998159, 0.06129049, 0.05649585, 0.04890959, 0.02309769,\n",
       "       0.0486681 , 0.02103745, 0.01812339, 0.04598841, 0.05276427,\n",
       "       0.03514516, 0.02196777, 0.05686345, 0.03980298, 0.04974087,\n",
       "       0.04848532, 0.04372905, 0.06367303, 0.03617282, 0.06709175,\n",
       "       0.05026484, 0.04254576, 0.03450977, 0.02747335, 0.0396748 ,\n",
       "       0.02466836, 0.05859902, 0.03868499, 0.01451169, 0.01438346,\n",
       "       0.02159509, 0.04521312, 0.03099012, 0.0176644 , 0.04559804,\n",
       "       0.04540371, 0.03567438, 0.04914985, 0.04468821, 0.04077457,\n",
       "       0.05021201, 0.02612377, 0.03204293, 0.01551905, 0.03820475,\n",
       "       0.03271421, 0.03938676, 0.01703424, 0.01469372, 0.05203565,\n",
       "       0.05672815, 0.03178109, 0.0634986 , 0.03873114, 0.0098983 ,\n",
       "       0.02431309, 0.01438346, 0.01746672, 0.07126276, 0.01590557,\n",
       "       0.02557753, 0.03082964, 0.044301  , 0.02606644, 0.07006722,\n",
       "       0.        , 0.06839676, 0.02690842, 0.03734633, 0.        ,\n",
       "       0.03085389, 0.0559223 , 0.01830913, 0.03884898, 0.06283234,\n",
       "       0.03021813, 0.02336704, 0.03750405, 0.0199579 , 0.0277309 ,\n",
       "       0.0234534 , 0.01229829, 0.0190732 , 0.        , 0.08090669,\n",
       "       0.01063994, 0.02008616, 0.03220426, 0.02903153, 0.0177583 ,\n",
       "       0.03945598, 0.04117275, 0.00329037, 0.04402618, 0.04147318,\n",
       "       0.00859497, 0.0583775 , 0.02141538, 0.03230062, 0.03728892,\n",
       "       0.        , 0.03154999, 0.0410791 ])"
      ]
     },
     "execution_count": 131,
     "metadata": {},
     "output_type": "execute_result"
    }
   ],
   "source": [
    "cosine_similarities"
   ]
  },
  {
   "cell_type": "code",
   "execution_count": 132,
   "metadata": {},
   "outputs": [
    {
     "data": {
      "text/plain": [
       "array([1.        , 0.09937659, 0.0832547 , 0.08090669, 0.07708436,\n",
       "       0.07483031, 0.07315956, 0.07126276, 0.07006722, 0.06849028,\n",
       "       0.06814729, 0.06709175, 0.06627634, 0.06540503, 0.06491968,\n",
       "       0.06367303, 0.06334353, 0.06281831, 0.06129049, 0.0612223 ,\n",
       "       0.06090079, 0.05964125, 0.05939996, 0.0583775 , 0.05754055,\n",
       "       0.05693028, 0.05686345, 0.05649585, 0.05641427, 0.0561684 ,\n",
       "       0.05593847, 0.05510515, 0.05456689, 0.05381108, 0.05303932,\n",
       "       0.05276427, 0.05218969, 0.05203565, 0.05168565, 0.05096556,\n",
       "       0.05058147, 0.05034005, 0.050327  , 0.05021201, 0.04974087,\n",
       "       0.04974087, 0.0496816 , 0.04941265, 0.0492574 , 0.04908632,\n",
       "       0.04890959, 0.0486681 , 0.04848532, 0.04836771, 0.04784294,\n",
       "       0.04777116, 0.04771141, 0.04652397, 0.04631377, 0.04623214,\n",
       "       0.04598841, 0.045684  , 0.04559804, 0.04540371, 0.04521312,\n",
       "       0.04495553, 0.044301  , 0.04412667, 0.04402618, 0.04402037,\n",
       "       0.04374137, 0.04372905, 0.04343705, 0.04329864, 0.04321434,\n",
       "       0.0429016 , 0.04272634, 0.04217583, 0.04180715, 0.04169134,\n",
       "       0.04147318, 0.0412808 , 0.04117275, 0.04117275, 0.04117275,\n",
       "       0.0410791 , 0.04090743, 0.04078596, 0.04077457, 0.04043814,\n",
       "       0.04032308, 0.04020948, 0.04004379, 0.03991923, 0.03988911,\n",
       "       0.03976686, 0.0396748 , 0.03939252, 0.03931994, 0.03920584,\n",
       "       0.03884898, 0.03876518, 0.03873114, 0.03870864, 0.03861623,\n",
       "       0.03840815, 0.03820475, 0.03801502, 0.03799818, 0.03779801,\n",
       "       0.03777421, 0.03750628, 0.03737643, 0.03728892, 0.0368675 ,\n",
       "       0.03670929, 0.03633094, 0.03626038, 0.03617282, 0.0358068 ,\n",
       "       0.0356724 , 0.03550814, 0.03525566, 0.03514516, 0.03502604,\n",
       "       0.03455577, 0.03450977, 0.03412123, 0.03408796, 0.03376516,\n",
       "       0.03351169, 0.0333755 , 0.03320772, 0.03295618, 0.03290976,\n",
       "       0.03276834, 0.03271421, 0.03259752, 0.03243591, 0.03237271,\n",
       "       0.03230062, 0.03220426, 0.03204293, 0.03184693, 0.03178109,\n",
       "       0.03136951, 0.03106148, 0.03104946, 0.03098846, 0.03082964,\n",
       "       0.03044105, 0.03021813, 0.02998159, 0.02995328, 0.02959332,\n",
       "       0.02943156, 0.02936721, 0.02932373, 0.02903153, 0.02889714,\n",
       "       0.02887115, 0.02864701, 0.02836058, 0.02809714, 0.02800427,\n",
       "       0.02788475, 0.0277309 , 0.02750935, 0.02746282, 0.02734136,\n",
       "       0.02722852, 0.02690842, 0.02676701, 0.02671381, 0.02663963,\n",
       "       0.02660951, 0.02649983, 0.02646538, 0.02612377, 0.02606644,\n",
       "       0.02604006, 0.02597396, 0.02566608, 0.02523169, 0.02514847,\n",
       "       0.02503327, 0.02490783, 0.02475541, 0.02469948, 0.02466833,\n",
       "       0.02454902, 0.02431309, 0.02400772, 0.02371642, 0.02363095,\n",
       "       0.02349094, 0.0234534 , 0.02331709, 0.02309769, 0.02297024,\n",
       "       0.02283386, 0.02272295, 0.02260118, 0.02242816, 0.0222473 ,\n",
       "       0.02211951, 0.02196777, 0.02173363, 0.02159509, 0.02141538,\n",
       "       0.02130121, 0.02116884, 0.02088687, 0.0207774 , 0.02038032,\n",
       "       0.02033328, 0.02016765, 0.02008616, 0.01980102, 0.01967994,\n",
       "       0.01933893, 0.01925402, 0.01919704, 0.0190732 , 0.01862911,\n",
       "       0.01818711, 0.01804672, 0.01788144, 0.01771987, 0.01767477,\n",
       "       0.01763348, 0.01720142, 0.0170843 , 0.01658864, 0.01620932,\n",
       "       0.01611375, 0.01590448, 0.0150737 , 0.01480721, 0.01467616,\n",
       "       0.01439176, 0.01438346, 0.01407522, 0.01341107, 0.0133222 ,\n",
       "       0.01125534, 0.01104677, 0.01063994, 0.01036655, 0.0098983 ,\n",
       "       0.00945956, 0.00926847, 0.00923373, 0.0090006 , 0.00888851,\n",
       "       0.00859497, 0.00767518, 0.00565752, 0.00329037, 0.        ,\n",
       "       0.        , 0.        , 0.        , 0.        , 0.        ,\n",
       "       0.        , 0.        , 0.        , 0.        , 0.        ,\n",
       "       0.        , 0.        , 0.        , 0.        ])"
      ]
     },
     "execution_count": 132,
     "metadata": {},
     "output_type": "execute_result"
    }
   ],
   "source": [
    "np.sort(cosine_similarities)[::-2]"
   ]
  },
  {
   "cell_type": "code",
   "execution_count": 133,
   "metadata": {},
   "outputs": [],
   "source": [
    "df['similarity'] = cosine_similarities[1:]"
   ]
  },
  {
   "cell_type": "code",
   "execution_count": 134,
   "metadata": {},
   "outputs": [],
   "source": [
    "df.sort_values(by='similarity', ascending=False, inplace=True)"
   ]
  },
  {
   "cell_type": "code",
   "execution_count": 135,
   "metadata": {},
   "outputs": [],
   "source": [
    "df.reset_index(inplace=True, drop=True)"
   ]
  },
  {
   "cell_type": "code",
   "execution_count": 136,
   "metadata": {},
   "outputs": [
    {
     "data": {
      "text/html": [
       "<div>\n",
       "<style scoped>\n",
       "    .dataframe tbody tr th:only-of-type {\n",
       "        vertical-align: middle;\n",
       "    }\n",
       "\n",
       "    .dataframe tbody tr th {\n",
       "        vertical-align: top;\n",
       "    }\n",
       "\n",
       "    .dataframe thead th {\n",
       "        text-align: right;\n",
       "    }\n",
       "</style>\n",
       "<table border=\"1\" class=\"dataframe\">\n",
       "  <thead>\n",
       "    <tr style=\"text-align: right;\">\n",
       "      <th></th>\n",
       "      <th>job_posting</th>\n",
       "      <th>title</th>\n",
       "      <th>body</th>\n",
       "      <th>bullets</th>\n",
       "      <th>requirements</th>\n",
       "      <th>similarity</th>\n",
       "    </tr>\n",
       "  </thead>\n",
       "  <tbody>\n",
       "    <tr>\n",
       "      <th>0</th>\n",
       "      <td>d1aac424aa1a8a50_fccid.html</td>\n",
       "      <td>Machine Learning Intern - San Diego, CA</td>\n",
       "      <td>Machine Learning Intern - San Diego, CA\\nInnov...</td>\n",
       "      <td>('Design and develop machine learning models t...</td>\n",
       "      <td>design develop machine learning models solve k...</td>\n",
       "      <td>0.108095</td>\n",
       "    </tr>\n",
       "    <tr>\n",
       "      <th>1</th>\n",
       "      <td>ef7046b5961f249e_fccid.html</td>\n",
       "      <td>Data Science Summer Institute Student Intern -...</td>\n",
       "      <td>Data Science Summer Institute Student Intern -...</td>\n",
       "      <td>('Students will work with scientists, engineer...</td>\n",
       "      <td>students work scientists engineers technical s...</td>\n",
       "      <td>0.099377</td>\n",
       "    </tr>\n",
       "    <tr>\n",
       "      <th>2</th>\n",
       "      <td>4b13ffbd35f56cf5_fccid.html</td>\n",
       "      <td>Machine Learning / Data Scientist Internship (...</td>\n",
       "      <td>Machine Learning / Data Scientist Internship (...</td>\n",
       "      <td>('How to build models at scale using vast amou...</td>\n",
       "      <td>build models scale using vast amounts structur...</td>\n",
       "      <td>0.098211</td>\n",
       "    </tr>\n",
       "    <tr>\n",
       "      <th>3</th>\n",
       "      <td>1fe8542aea7dab83_fccid.html</td>\n",
       "      <td>Data Scientist - Oakland, CA</td>\n",
       "      <td>Data Scientist - Oakland, CA\\nOur Mission:\\nTo...</td>\n",
       "      <td>('Design algorithms to infer key transportatio...</td>\n",
       "      <td>design algorithms infer key transportation pat...</td>\n",
       "      <td>0.083255</td>\n",
       "    </tr>\n",
       "    <tr>\n",
       "      <th>4</th>\n",
       "      <td>17a320fb30c7c7ab_fccid.html</td>\n",
       "      <td>Machine Learning Postdoctoral Fellow - San Fra...</td>\n",
       "      <td>Machine Learning Postdoctoral Fellow - San Fra...</td>\n",
       "      <td>('Design and develop distributed machine learn...</td>\n",
       "      <td>design develop distributed machine learning ap...</td>\n",
       "      <td>0.082682</td>\n",
       "    </tr>\n",
       "  </tbody>\n",
       "</table>\n",
       "</div>"
      ],
      "text/plain": [
       "                   job_posting  \\\n",
       "0  d1aac424aa1a8a50_fccid.html   \n",
       "1  ef7046b5961f249e_fccid.html   \n",
       "2  4b13ffbd35f56cf5_fccid.html   \n",
       "3  1fe8542aea7dab83_fccid.html   \n",
       "4  17a320fb30c7c7ab_fccid.html   \n",
       "\n",
       "                                               title  \\\n",
       "0            Machine Learning Intern - San Diego, CA   \n",
       "1  Data Science Summer Institute Student Intern -...   \n",
       "2  Machine Learning / Data Scientist Internship (...   \n",
       "3                       Data Scientist - Oakland, CA   \n",
       "4  Machine Learning Postdoctoral Fellow - San Fra...   \n",
       "\n",
       "                                                body  \\\n",
       "0  Machine Learning Intern - San Diego, CA\\nInnov...   \n",
       "1  Data Science Summer Institute Student Intern -...   \n",
       "2  Machine Learning / Data Scientist Internship (...   \n",
       "3  Data Scientist - Oakland, CA\\nOur Mission:\\nTo...   \n",
       "4  Machine Learning Postdoctoral Fellow - San Fra...   \n",
       "\n",
       "                                             bullets  \\\n",
       "0  ('Design and develop machine learning models t...   \n",
       "1  ('Students will work with scientists, engineer...   \n",
       "2  ('How to build models at scale using vast amou...   \n",
       "3  ('Design algorithms to infer key transportatio...   \n",
       "4  ('Design and develop distributed machine learn...   \n",
       "\n",
       "                                        requirements  similarity  \n",
       "0  design develop machine learning models solve k...    0.108095  \n",
       "1  students work scientists engineers technical s...    0.099377  \n",
       "2  build models scale using vast amounts structur...    0.098211  \n",
       "3  design algorithms infer key transportation pat...    0.083255  \n",
       "4  design develop distributed machine learning ap...    0.082682  "
      ]
     },
     "execution_count": 136,
     "metadata": {},
     "output_type": "execute_result"
    }
   ],
   "source": [
    "df.head(n=5)"
   ]
  },
  {
   "cell_type": "code",
   "execution_count": 137,
   "metadata": {},
   "outputs": [
    {
     "data": {
      "text/plain": [
       "<matplotlib.lines.Line2D at 0x7f95e0783690>"
      ]
     },
     "execution_count": 137,
     "metadata": {},
     "output_type": "execute_result"
    },
    {
     "data": {
      "image/png": "[encoded data removed]",
      "text/plain": [
       "<Figure size 432x432 with 1 Axes>"
      ]
     },
     "metadata": {
      "needs_background": "light"
     },
     "output_type": "display_data"
    }
   ],
   "source": [
    "plt.figure(figsize=(6,6))\n",
    "df['similarity'].plot()\n",
    "plt.axvline(100, c='black', ls='dotted')"
   ]
  },
  {
   "cell_type": "markdown",
   "metadata": {},
   "source": [
    "## The Highest Match"
   ]
  },
  {
   "cell_type": "code",
   "execution_count": 138,
   "metadata": {},
   "outputs": [
    {
     "data": {
      "text/html": [
       "<html><head><title>Machine Learning Intern - San Diego, CA</title></head>\n",
       "<body><h2>Machine Learning Intern - San Diego, CA</h2>\n",
       "<h2 class=\"jobSectionHeader\"><b>Innovation Lives Here\n",
       "</b></h2><p></p><p>You go all in no matter what you do, and so do we. You want to use your powers for good, and that’s exactly what we do at Lytx®. Our team is made up of hungry, humble, and capable people who are making a difference every day with technology that helps save lives each year.\n",
       "</p><p></p><p><b>Internship Overview:\n",
       "</b></p><p></p><p>The Lytx Applied Machine Learning Group develops machine learning and computer vision algorithms to monitor and assess the state of drivers and their environment to identify risk and improve safety for our clients. The Machine Learning Intern will work on key aspects of the development cycle to help prototype, optimize, and evaluate models in Lytx’s product development pipeline. This is a great opportunity for a student who wants to gain hands-on experience in the world of machine learning and data science.<br/>\n",
       "</p><p></p><p><b>Key Duties and Responsibilities:\n",
       "</b></p><p></p><ul><li>Design and develop machine learning models to solve key business problems and improve client performance, retention and satisfaction\n",
       "</li><li>Analyze data to find trends, evaluate and compare effectiveness of the developed models, and report statistics on model performance\n",
       "</li><li>Assist on projects led by other team members via data processing, programming, monitoring of an applications already deployed to production, etc.\n",
       "</li></ul><p></p><p><b>Desired Experience and Qualifications:\n",
       "</b></p><p></p><ul><li>Currently enrolled in an accredited university/college. Preferred: Masters student of highly qualified undergraduate student pursuing a quantitative major (e.g. computer science, electrical engineering, physics, math, etc.)\n",
       "</li><li>Strong statistical and mathematical background\n",
       "</li><li>Working knowledge of Python\n",
       "</li><li>Experience with conventional machine learning techniques and coding packages (e.g. scikit-learn)\n",
       "</li><li>Experience with deep learning development a plus (e.g. Tensorflow, Pytorch, etc.)\n",
       "</li><li>Experience with common deep learning model architectures including CNNs, RNNs and Transformer is a plus\n",
       "</li><li>Experience applying machine learning to image/video preferred\n",
       "</li><li>Basic knowledge of SQL database\n",
       "</li></ul><p></p><p>Lytx, Inc. is proud to be an equal opportunity/affirmative action employer and maintains a drug-free workplace. We are committed to attracting, retaining and maximizing the performance of a diverse and inclusive workforce. EOE/M/F/Disabled/Vet.</p></body>\n",
       "</html>"
      ],
      "text/plain": [
       "<IPython.core.display.HTML object>"
      ]
     },
     "metadata": {},
     "output_type": "display_data"
    }
   ],
   "source": [
    "with open('data/html_job_postings/'+df.head(n=1).job_posting.values[0]) as jpost:\n",
    "    display(HTML(jpost.read()))"
   ]
  },
  {
   "cell_type": "markdown",
   "metadata": {},
   "source": [
    "## The Lowest Match"
   ]
  },
  {
   "cell_type": "code",
   "execution_count": 139,
   "metadata": {},
   "outputs": [
    {
     "data": {
      "text/html": [
       "<html><head><title>Data Scientist - Remote</title></head>\n",
       "<body><h2>Data Scientist - Remote</h2>\n",
       "As a Data Scientist in Product & Technology, you will help Paylocity discover the information hidden in vast amounts of data, to help our customers make smarter human capital decisions that drive organizational success. Your primary focus will be to apply knowledge of statistics, machine learning, programming, data modeling, simulation, and advanced mathematics to recognize patterns, identify opportunities, pose business questions, and make valuable discoveries leading to prototype development and product improvement.\n",
       "\n",
       "Are you the teammate we are looking for?\n",
       "\n",
       "Who you are:\n",
       "Enthusiastic about advanced analytics and how predictive insights lead to a superior customer experience\n",
       "Invested in staying current in data science by applying new technologies and practices\n",
       "Able to work in a collaborative environment with a desire to share your ideas\n",
       "Able to work independently on modules and complete tasks with high quality, but unafraid to seek out suggestions from other team members\n",
       "Excited to work on cutting-edge technology!\n",
       "\n",
       "How we work:\n",
       "Curiosity and candor; the quality of the idea wins the day\n",
       "Casual, focused, and agile environment operating under our shared principles\n",
       "Customers at the center of everything we do\n",
       "Small, mission-focused squads with an entrepreneurial spirit backed by enterprise investments\n",
       "Consistent routines across stakeholders to ensure complete transparency\n",
       "Close working relationship between executive stakeholders and customers\n",
       "\n",
       "What we offer:\n",
       "A compelling mission to elevate payroll and human resources across the backroom and into the boardroom\n",
       "Focus on helping our customers automate manual processes, appeal to the modern workforce, and glean insights from analytics\n",
       "Lean enabling process that focuses on putting our customers at the center of everything we do\n",
       "A commitment to investing in our products, hiring the best talent, and giving them the chance to meaningfully contribute to a vast market opportunity\n",
       "Ample opportunity and encouragement to stay current with external training\n",
       "A phenomenal talent anywhere culture, where employees can work remotely anywhere in the U.S. and/or work from one of three U.S. offices located in Illinois, Florida and Idaho\n",
       "\n",
       "What you bring:\n",
       "Demonstrated ability to leverage data science to drive business results. Some ways previous successful candidates have demonstrated this are:\n",
       "3-6 years of data science success at other software companies\n",
       "Recognized success for data science skills via academic awards, scholarships or corporate recognition programs (Employee of the Year, etc.)\n",
       "Experience in writing production grade machine learning models in Python. Some ways previous successful candidates have demonstrated this are:\n",
       "A portfolio of publicly available data science projects that resulted in a fully functioning piece of software\n",
       "Strong academic publication or speaking record in organizations such as ICML, NeurIPS, JML, KDD, and INFORMS\n",
       "History of strong performance in Kaggle competitions\n",
       "Experience with cloud infrastructure on AWS or Azure\n",
       "Skilled at translating business problems into data science problems and communicating the results to non-technical audiences.\n",
       "Some ways previous successful candidates have demonstrated this are:\n",
       "\n",
       "A resume or cover letter outlining previous experience leveraging data science across many domains\n",
       "A professional or academic track record of teaching mathematical or data science concepts to non-traditional audiences\n",
       "Experience or interest for leveraging technology and data to empower employees. Some ways previous successful candidates have demonstrated this are:\n",
       "Professional or academic experience in HR, social science or psychology\n",
       "Advanced degree (Masters or PhD) preferred in computer science, industrial engineering, statistics, industrial organizational psychology, neurology, public policy, linguistics or other quantitative field preferred. Bachelor’s degree required.\n",
       "\n",
       "During the last three months, you would have:\n",
       "Selected features, built and optimized classifiers using machine learning techniques such as random forests, xgboost, TensorFlow, linear regression, time series methods\n",
       "Collaborated with Product Owners, Sales Leaders, Enterprise Architects and other executives to translate complex human capital management challenges into data science projects\n",
       "Extended company’s data with third party sources of information when needed\n",
       "Enhanced data collection procedures to include information that is relevant for building analytic systems\n",
       "Leverage cutting edge big data technologies on AWS and Microsoft Azure\n",
       "Conducted ad-hoc analysis and presented results in a clear manner\n",
       "Created automated anomaly detection systems and tracking of its performance\n",
       "Worked closely with full stack .net engineers in an agile product development environment</body>\n",
       "</html>"
      ],
      "text/plain": [
       "<IPython.core.display.HTML object>"
      ]
     },
     "metadata": {},
     "output_type": "display_data"
    }
   ],
   "source": [
    "with open('data/html_job_postings/'+df.tail(n=1).job_posting.values[0]) as jpost:\n",
    "    display(HTML(jpost.read()))"
   ]
  }
 ],
 "metadata": {
  "kernelspec": {
   "display_name": "Python 3",
   "language": "python",
   "name": "python3"
  },
  "language_info": {
   "codemirror_mode": {
    "name": "ipython",
    "version": 3
   },
   "file_extension": ".py",
   "mimetype": "text/x-python",
   "name": "python",
   "nbconvert_exporter": "python",
   "pygments_lexer": "ipython3",
   "version": "3.7.8"
  }
 },
 "nbformat": 4,
 "nbformat_minor": 4
}
