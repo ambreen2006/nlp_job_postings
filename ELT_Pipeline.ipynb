{
 "cells": [
  {
   "cell_type": "markdown",
   "metadata": {},
   "source": [
    "# Imports"
   ]
  },
  {
   "cell_type": "code",
   "execution_count": 74,
   "metadata": {},
   "outputs": [],
   "source": [
    "from pathlib import Path\n",
    "\n",
    "import pandas as pd\n",
    "from bs4 import BeautifulSoup as bs"
   ]
  },
  {
   "cell_type": "markdown",
   "metadata": {},
   "source": [
    "# Data"
   ]
  },
  {
   "cell_type": "code",
   "execution_count": 75,
   "metadata": {},
   "outputs": [],
   "source": [
    "posting_dir = Path('data/html_job_postings/')"
   ]
  },
  {
   "cell_type": "code",
   "execution_count": 76,
   "metadata": {
    "scrolled": false
   },
   "outputs": [],
   "source": [
    "posting_list = []\n",
    "\n",
    "for file in posting_dir.glob('*.html'):\n",
    "    posting_list.append([file, file.read_text()])"
   ]
  },
  {
   "cell_type": "code",
   "execution_count": 77,
   "metadata": {},
   "outputs": [
    {
     "data": {
      "text/plain": [
       "[PosixPath('data/html_job_postings/1e92960a19ffdd34_fccid.html'),\n",
       " '<html><head><title>Quantitative Analyst - Boston, MA 02116</title></head>\\n<body><h2>Quantitative Analyst - Boston, MA 02116</h2>\\n<p>Quantitative Analyst (State Street Bank and Trust Company; Boston, MA): The Quantitative Analyst will be part of State Street Treasury’s Treasury Quantitative Analytics (TQA) group. TQA is responsible for developing/implementing/monitoring advanced financial models that are used in company’s capital management, liquidity management, investment portfolio construction, and balance sheet optimization. The group is accountable for in-depth understanding, modeling, and representation of the complex interaction of global markets, customer behaviors, and regulatory oversights to create a view of risk/revenue opportunities and exposures to the investment committee, Board of Directors, senior management, and regulatory agencies. The Quantitative Analyst role is a key contributor to the realization of the GT’s mission of optimizing net interest income within the desired risk appetite position. Specific responsibilities include: apply advanced statistical techniques to analyze the characteristics of the bank’s liabilities (including deposit balance forecast, deposit attrition rate and deposit pricing), using time-series analysis, survival analysis, and non-parametric regressions; experience with machine learning techniques such as principal component analysis, regression trees, and non-linear models; conduct in-depth quantitative analysis on how macroeconomic changes impact the bank’s balance sheet positions and understand the interest rate risks of the bank in different economic cycles; apply solid knowledge of CCAR, DFAST, and Basel regulations and developed stress testing models to quantify capital and liquidity risks; create and maintain model documentation that meets corporate model risk standards including model development and implementation papers; ensure proper ongoing monitoring of model performance including back-testing and performance reviews; and work closely with key business partners and senior management to understand the business needs and conditions and determine the analytical tools and data needed; serve as the subject matter experts on product analysis and modeling with regulatory agencies and internal oversight functions.\\n</p><p></p><p>Minimum requirements: Master’s degree in Econometrics, Mathematics, Statistics, or a related quantitative field plus 2 years of quantitative modeling experience including at least one year in a large, complex financial institution with a broad exposure to all lines of businesses of a custodial bank.\\n</p><p></p><p>Must have: demonstrated experience modeling complex financial concepts using non-linear, error correction, survival, and time-series models, Monte Carlo simulations and unsupervised and supervised machine learning, and other advanced quantitative techniques; proven knowledge of liquidity and capital stress testing, CCAR, and deposit modeling experience required; proven solid ability working with large and complex data sets including relational databases and complex queries using both SQL Server and My SQL; demonstrated proficiency in R/SAS/Matlab coding and working knowledge of Excel VBA, Eviews, python, and Cloudera Data Science Workbench; deep and broad understanding of all kinds of financial instruments like loans and deposits, as well as derivatives like options and futures; CFA candidates desired; demonstrated strong written and verbal communication skills and ability to present material to various audiences including upper management and regulators; and proven ability to take initiative, adapt and learn quickly, and be a self-starter. (Unless otherwise indicated, State Street is seeking the ability in the skills listed above with no specific amount of experience required. All experience can be gained concurrently).\\n</p><p></p><p>A pply online at statestreet.com/careers . State Street Job ID: R-620670 <b>. </b>An EOE.\\n</p><p></p><p>“#LI-DNI”</p></body>\\n</html>']"
      ]
     },
     "execution_count": 77,
     "metadata": {},
     "output_type": "execute_result"
    }
   ],
   "source": [
    "posting_list[0]"
   ]
  },
  {
   "cell_type": "markdown",
   "metadata": {},
   "source": [
    "# Data Extraction"
   ]
  },
  {
   "cell_type": "code",
   "execution_count": 78,
   "metadata": {},
   "outputs": [],
   "source": [
    "def extract_data(html_content):\n",
    "    \n",
    "    soup = bs(html_content)\n",
    "\n",
    "    title_text = soup.find('title').text\n",
    "    body_text = soup.find('body').text\n",
    "\n",
    "    bullets = soup.find_all('li')\n",
    "    bullets_text = []\n",
    "    for b in bullets:\n",
    "        bullets_text.append(b.text.replace('\\n', '').\\\n",
    "                                   replace(' ', '').\\\n",
    "                                   replace('\\t', ''))\n",
    "    \n",
    "    return title_text, body_text, bullets_text"
   ]
  },
  {
   "cell_type": "code",
   "execution_count": 79,
   "metadata": {},
   "outputs": [],
   "source": [
    "posting_df = pd.DataFrame(columns=['title', 'body', 'bullets'])\n",
    "\n",
    "for _, html in posting_list:\n",
    "\n",
    "    title, body, bullets = extract_data(html)\n",
    "    posting_df = posting_df.append(pd.Series([title, body, bullets], \n",
    "                                             index=posting_df.columns), \n",
    "                                   ignore_index=True)\n",
    "                                            "
   ]
  },
  {
   "cell_type": "code",
   "execution_count": 81,
   "metadata": {},
   "outputs": [
    {
     "data": {
      "text/html": [
       "<div>\n",
       "<style scoped>\n",
       "    .dataframe tbody tr th:only-of-type {\n",
       "        vertical-align: middle;\n",
       "    }\n",
       "\n",
       "    .dataframe tbody tr th {\n",
       "        vertical-align: top;\n",
       "    }\n",
       "\n",
       "    .dataframe thead th {\n",
       "        text-align: right;\n",
       "    }\n",
       "</style>\n",
       "<table border=\"1\" class=\"dataframe\">\n",
       "  <thead>\n",
       "    <tr style=\"text-align: right;\">\n",
       "      <th></th>\n",
       "      <th>title</th>\n",
       "      <th>body</th>\n",
       "      <th>bullets</th>\n",
       "    </tr>\n",
       "  </thead>\n",
       "  <tbody>\n",
       "    <tr>\n",
       "      <th>0</th>\n",
       "      <td>Quantitative Analyst - Boston, MA 02116</td>\n",
       "      <td>Quantitative Analyst - Boston, MA 02116\\nQuant...</td>\n",
       "      <td>[]</td>\n",
       "    </tr>\n",
       "    <tr>\n",
       "      <th>1</th>\n",
       "      <td>Data Scientist - Mountain View, CA</td>\n",
       "      <td>Data Scientist - Mountain View, CA\\nGroundTrut...</td>\n",
       "      <td>[Helpseniormembersoftheteamtoexplore,develop,p...</td>\n",
       "    </tr>\n",
       "    <tr>\n",
       "      <th>2</th>\n",
       "      <td>Data Scientist - Seattle, WA</td>\n",
       "      <td>Data Scientist - Seattle, WA\\nA Bachelor or Ma...</td>\n",
       "      <td>[ABachelororMastersDegreeinahighlyquantitative...</td>\n",
       "    </tr>\n",
       "    <tr>\n",
       "      <th>3</th>\n",
       "      <td>Senior Natural Language Processing (NLP) Engin...</td>\n",
       "      <td>Senior Natural Language Processing (NLP) Engin...</td>\n",
       "      <td>[JoinasmallteamcreatingaproprietaryNLUstackfro...</td>\n",
       "    </tr>\n",
       "    <tr>\n",
       "      <th>4</th>\n",
       "      <td>FLEXO FOLDER GLUER OPER - McClellan, CA - McCl...</td>\n",
       "      <td>FLEXO FOLDER GLUER OPER - McClellan, CA - McCl...</td>\n",
       "      <td>[]</td>\n",
       "    </tr>\n",
       "  </tbody>\n",
       "</table>\n",
       "</div>"
      ],
      "text/plain": [
       "                                               title  \\\n",
       "0            Quantitative Analyst - Boston, MA 02116   \n",
       "1                 Data Scientist - Mountain View, CA   \n",
       "2                       Data Scientist - Seattle, WA   \n",
       "3  Senior Natural Language Processing (NLP) Engin...   \n",
       "4  FLEXO FOLDER GLUER OPER - McClellan, CA - McCl...   \n",
       "\n",
       "                                                body  \\\n",
       "0  Quantitative Analyst - Boston, MA 02116\\nQuant...   \n",
       "1  Data Scientist - Mountain View, CA\\nGroundTrut...   \n",
       "2  Data Scientist - Seattle, WA\\nA Bachelor or Ma...   \n",
       "3  Senior Natural Language Processing (NLP) Engin...   \n",
       "4  FLEXO FOLDER GLUER OPER - McClellan, CA - McCl...   \n",
       "\n",
       "                                             bullets  \n",
       "0                                                 []  \n",
       "1  [Helpseniormembersoftheteamtoexplore,develop,p...  \n",
       "2  [ABachelororMastersDegreeinahighlyquantitative...  \n",
       "3  [JoinasmallteamcreatingaproprietaryNLUstackfro...  \n",
       "4                                                 []  "
      ]
     },
     "execution_count": 81,
     "metadata": {},
     "output_type": "execute_result"
    }
   ],
   "source": [
    "posting_df.head()"
   ]
  },
  {
   "cell_type": "code",
   "execution_count": null,
   "metadata": {},
   "outputs": [],
   "source": []
  }
 ],
 "metadata": {
  "kernelspec": {
   "display_name": "Python 3",
   "language": "python",
   "name": "python3"
  },
  "language_info": {
   "codemirror_mode": {
    "name": "ipython",
    "version": 3
   },
   "file_extension": ".py",
   "mimetype": "text/x-python",
   "name": "python",
   "nbconvert_exporter": "python",
   "pygments_lexer": "ipython3",
   "version": "3.7.8"
  }
 },
 "nbformat": 4,
 "nbformat_minor": 4
}
